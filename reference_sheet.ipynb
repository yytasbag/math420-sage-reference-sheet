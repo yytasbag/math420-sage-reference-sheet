{
 "cells": [
  {
   "cell_type": "code",
   "execution_count": 1,
   "metadata": {},
   "outputs": [
    {
     "name": "stdout",
     "output_type": "stream",
     "text": [
      "1\n"
     ]
    }
   ],
   "source": [
    "import random # i prefer to use python's random number generator\n",
    "\n",
    "r = random.randint(0, 10) # random integer in range [0, 10]\n",
    "print(r)"
   ]
  },
  {
   "cell_type": "code",
   "execution_count": 2,
   "metadata": {},
   "outputs": [
    {
     "name": "stdout",
     "output_type": "stream",
     "text": [
      "True\n"
     ]
    }
   ],
   "source": [
    "p = 7\n",
    "print(is_prime(p))"
   ]
  },
  {
   "cell_type": "code",
   "execution_count": 3,
   "metadata": {},
   "outputs": [
    {
     "name": "stdout",
     "output_type": "stream",
     "text": [
      "509 True\n"
     ]
    }
   ],
   "source": [
    "p = random_prime(2^10)  # unlike python carrot operator is used for exponentiation instead of XOR\n",
    "                        # random_prime returns a prime number that is less than 2^10\n",
    "print(p, is_prime(p))"
   ]
  },
  {
   "cell_type": "code",
   "execution_count": 4,
   "metadata": {},
   "outputs": [
    {
     "name": "stdout",
     "output_type": "stream",
     "text": [
      "2^4 * 23\n"
     ]
    }
   ],
   "source": [
    "n = 368\n",
    "print(factor(n)) # you can factor integers and polynomials using factor command"
   ]
  },
  {
   "cell_type": "code",
   "execution_count": 5,
   "metadata": {},
   "outputs": [
    {
     "name": "stdout",
     "output_type": "stream",
     "text": [
      "Ring of integers modulo 13\n",
      "2\n"
     ]
    }
   ],
   "source": [
    "p = 13\n",
    "R = Zmod(p) # this defines the ring Z_p\n",
    "print(R)\n",
    "a = R(15) # a is an elemenet of R\n",
    "print(a)"
   ]
  },
  {
   "cell_type": "code",
   "execution_count": 6,
   "metadata": {},
   "outputs": [
    {
     "name": "stdout",
     "output_type": "stream",
     "text": [
      "g = 2\n",
      "2^0 = 1\n",
      "2^1 = 2\n",
      "2^2 = 4\n",
      "2^3 = 8\n",
      "2^4 = 3\n",
      "2^5 = 6\n",
      "2^6 = 12\n",
      "2^7 = 11\n",
      "2^8 = 9\n",
      "2^9 = 5\n",
      "2^10 = 10\n",
      "2^11 = 7\n"
     ]
    }
   ],
   "source": [
    "g = primitive_root(p) # we calculate the primitive root\n",
    "g = R(g) # then make it an element of Z_p\n",
    "print(\"g =\", g)\n",
    "\n",
    "for i in range(p - 1): # we can confirm its a primitive root\n",
    "    print(f\"{g}^{i} =\", g^i)"
   ]
  },
  {
   "cell_type": "code",
   "execution_count": 7,
   "metadata": {},
   "outputs": [
    {
     "name": "stdout",
     "output_type": "stream",
     "text": [
      "7 11\n",
      "7\n"
     ]
    }
   ],
   "source": [
    "x = R.random_element() # we can also sample random elements like this\n",
    "a = g^x\n",
    "print(x, a)\n",
    "\n",
    "xbar = a.log(g) # we can also calculate discrete logs\n",
    "print(xbar)"
   ]
  },
  {
   "cell_type": "code",
   "execution_count": 8,
   "metadata": {},
   "outputs": [
    {
     "name": "stdout",
     "output_type": "stream",
     "text": [
      "Elliptic Curve defined by y^2 = x^3 + 2*x + 3 over Ring of integers modulo 13\n",
      "(7 : 10 : 1)\n"
     ]
    }
   ],
   "source": [
    "# lets construct an elliptic curve over R\n",
    "E = EllipticCurve(R, [2, 3])\n",
    "print(E)\n",
    "P = E.gens()[0] # you can calculate the generator of this curve like this\n",
    "print(P)\n"
   ]
  },
  {
   "cell_type": "code",
   "execution_count": 9,
   "metadata": {},
   "outputs": [
    {
     "name": "stdout",
     "output_type": "stream",
     "text": [
      "4 (9 : 3 : 1)\n",
      "4\n"
     ]
    }
   ],
   "source": [
    "x = random.randint(0, p - 1)\n",
    "Q = x * P # x has to be of type int\n",
    "print(x, Q)\n",
    "\n",
    "xbar = P.discrete_log(Q) # notation is reversed here, when in doubt always test\n",
    "print(xbar)\n",
    "\n",
    "assert xbar * P == Q"
   ]
  },
  {
   "cell_type": "code",
   "execution_count": null,
   "metadata": {},
   "outputs": [],
   "source": []
  }
 ],
 "metadata": {
  "kernelspec": {
   "display_name": "SageMath 9.0",
   "language": "sage",
   "name": "sagemath"
  },
  "language_info": {
   "codemirror_mode": {
    "name": "ipython",
    "version": 3
   },
   "file_extension": ".py",
   "mimetype": "text/x-python",
   "name": "python",
   "nbconvert_exporter": "python",
   "pygments_lexer": "ipython3",
   "version": "3.7.3"
  }
 },
 "nbformat": 4,
 "nbformat_minor": 2
}
